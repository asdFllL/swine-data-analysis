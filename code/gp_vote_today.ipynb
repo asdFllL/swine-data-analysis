{
 "cells": [
  {
   "cell_type": "code",
   "execution_count": 9,
   "metadata": {},
   "outputs": [
    {
     "name": "stdout",
     "output_type": "stream",
     "text": [
      "已加入3\n",
      "已加入3\n",
      "已加入3\n",
      "已加入2\n",
      "已加入3\n",
      "已加入3\n",
      "已加入4\n",
      "已加入3\n",
      "已加入3\n",
      "已加入3\n",
      "已加入3\n",
      "已加入3\n",
      "已加入2\n",
      "已加入2\n",
      "已加入2\n",
      "已加入3\n",
      "已加入3\n",
      "已加入2\n",
      "已加入3\n",
      "已加入4\n",
      "已加入3\n",
      "已加入3\n",
      "已加入4\n",
      "已加入2\n",
      "已加入3\n",
      "已加入3\n",
      "已加入3\n",
      "已加入4\n",
      "已加入3\n"
     ]
    }
   ],
   "source": [
    "from wxauto import WeChat\n",
    "import re\n",
    "import numpy as np\n",
    "import pandas as pd\n",
    "import datetime\n",
    "import pyodbc\n",
    "\n",
    "# 早间投票\n",
    "# def getTmrAndDOTmrMean(condition1, condition2):\n",
    "    # 打开文件传输助手并获取信息\n",
    "wx = WeChat()\n",
    "wx.ChatWith('文件传输助手')\n",
    "msgs = wx.GetAllMessage\n",
    "# 获取信息长度\n",
    "len(msgs)\n",
    "# 判断信息时间\n",
    "tmrList = []\n",
    "DOtmrList = []\n",
    "condition1 = str(input(\"请输入查询时间:\"))\n",
    "condition2 = str(input('请输入查询条件：'))\n",
    "for x in range(len(msgs)-1):\n",
    "    if msgs[x][1].startswith(condition1):\n",
    "        useTimeIndex = x + 1\n",
    "        for y in range(useTimeIndex, len(msgs)-1):\n",
    "            if msgs[y][1].startswith(condition2):\n",
    "                i = y + 1\n",
    "                for i in range(i, len(msgs)-1):\n",
    "                    dataUse_tmr = re.findall(r\"\\d\", msgs[i][1])\n",
    "                    if len(dataUse_tmr) == 2:\n",
    "                        for x in dataUse_tmr:\n",
    "                            tmrList.append(int(x))\n",
    "                            print('已加入%s'%(int(x)))\n",
    "                    else:\n",
    "                        tmrList.append(int(dataUse_tmr[0]))\n",
    "                        print('已加入%s'%(int(dataUse_tmr[0])))\n",
    "                    dataUse_DOtmr = re.findall('[a-zA-Z]', msgs[i][1])\n",
    "meanOfTmr = np.mean(tmrList) # 计算明日预测平均值\n",
    "resultOfTmr = (meanOfTmr-3)*(-1)\n",
    "\n"
   ]
  },
  {
   "cell_type": "code",
   "execution_count": 36,
   "metadata": {},
   "outputs": [
    {
     "data": {
      "text/plain": [
       "0"
      ]
     },
     "execution_count": 36,
     "metadata": {},
     "output_type": "execute_result"
    }
   ],
   "source": [
    "number1 = tmrList.count(1)\n",
    "number1"
   ]
  },
  {
   "cell_type": "code",
   "execution_count": 9,
   "metadata": {},
   "outputs": [],
   "source": [
    "listUse = pd.value_counts(tmrList)"
   ]
  },
  {
   "cell_type": "code",
   "execution_count": 10,
   "metadata": {},
   "outputs": [
    {
     "data": {
      "text/plain": [
       "3    16\n",
       "4     8\n",
       "2     5\n",
       "dtype: int64"
      ]
     },
     "execution_count": 10,
     "metadata": {},
     "output_type": "execute_result"
    }
   ],
   "source": [
    "listUse"
   ]
  },
  {
   "cell_type": "code",
   "execution_count": 10,
   "metadata": {},
   "outputs": [
    {
     "name": "stdout",
     "output_type": "stream",
     "text": [
      "0.0 0.20689655172413793 0.6551724137931034 0.13793103448275862 0.0\n"
     ]
    }
   ],
   "source": [
    "number1 = tmrList.count(1)     \n",
    "number2 = tmrList.count(2)\n",
    "number3 = tmrList.count(3)\n",
    "number4 = tmrList.count(4)\n",
    "number5 = tmrList.count(5)\n",
    "number_total = [number1, number2, number3, number4, number5]  \n",
    "number_sum = sum(number_total)\n",
    "number_use1 = number1/number_sum\n",
    "number_use2 = number2/number_sum\n",
    "number_use3 = number3/number_sum\n",
    "number_use4 = number4/number_sum\n",
    "number_use5 = number5/number_sum\n",
    "\n",
    "print(number_use1, number_use2, number_use3, number_use4, number_use5)"
   ]
  },
  {
   "cell_type": "code",
   "execution_count": 11,
   "metadata": {},
   "outputs": [
    {
     "name": "stdout",
     "output_type": "stream",
     "text": [
      "Database version : None \n"
     ]
    }
   ],
   "source": [
    "import pymysql\n",
    "\n",
    "# 打开数据库连接\n",
    "conn = pymysql.connect(host='gz-cdb-50zykywd.sql.tencentcdb.com',\n",
    "                     port=58639,\n",
    "                     user='user_biz',\n",
    "                     password='V6VK2MtXYQCY',\n",
    "                     database='biz_data')\n",
    " \n",
    "# 使用 cursor() 方法创建一个游标对象 cursor\n",
    "cursor = conn.cursor()\n",
    " \n",
    "# 使用 execute()  方法执行 SQL 查询 \n",
    "cursor.execute(\n",
    "    \"INSERT INTO gp_expectation_tmr VALUES ('%s', %.4f, %.4f, %.4f, %.4f, %.4f);\"\n",
    "    % ('2023/08/23', number_use1, number_use2, number_use3, number_use4, number_use5)\n",
    ")\n",
    "conn.commit()\n",
    " \n",
    "# 使用 fetchone() 方法获取单条数据.\n",
    "data = cursor.fetchone()\n",
    " \n",
    "print (\"Database version : %s \" % data)\n",
    " \n",
    "# 关闭数据库连接\n",
    "conn.close()"
   ]
  },
  {
   "cell_type": "code",
   "execution_count": 58,
   "metadata": {},
   "outputs": [],
   "source": [
    "def try1():\n",
    "    r1 = 1\n",
    "    r2 = 2\n",
    "    return(r1, r2)\n",
    "\n",
    "def pRint(result):\n",
    "    print(result[0], result[1])"
   ]
  },
  {
   "cell_type": "code",
   "execution_count": 59,
   "metadata": {},
   "outputs": [
    {
     "name": "stdout",
     "output_type": "stream",
     "text": [
      "1 2\n"
     ]
    }
   ],
   "source": [
    "pRint(try1())"
   ]
  },
  {
   "cell_type": "code",
   "execution_count": null,
   "metadata": {},
   "outputs": [],
   "source": []
  }
 ],
 "metadata": {
  "kernelspec": {
   "display_name": "ckywork",
   "language": "python",
   "name": "python3"
  },
  "language_info": {
   "codemirror_mode": {
    "name": "ipython",
    "version": 3
   },
   "file_extension": ".py",
   "mimetype": "text/x-python",
   "name": "python",
   "nbconvert_exporter": "python",
   "pygments_lexer": "ipython3",
   "version": "3.10.9"
  },
  "orig_nbformat": 4
 },
 "nbformat": 4,
 "nbformat_minor": 2
}
