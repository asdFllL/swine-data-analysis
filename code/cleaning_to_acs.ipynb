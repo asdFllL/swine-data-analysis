{
 "cells": [
  {
   "cell_type": "code",
   "execution_count": 7,
   "metadata": {},
   "outputs": [
    {
     "name": "stderr",
     "output_type": "stream",
     "text": [
      "C:\\Users\\admin\\AppData\\Local\\Temp\\ipykernel_20356\\1620434319.py:9: DeprecationWarning: Call to deprecated function get_sheet_by_name (Use wb[sheetname]).\n",
      "  ws1 = wb.get_sheet_by_name('日度-肥猪价格')\n"
     ]
    }
   ],
   "source": [
    "import re\n",
    "import datetime\n",
    "import pymysql\n",
    "\n",
    "data_path = r\"D:\\Chen_Keyu\\code\\db_update\\gp\\金猪小卡片.xlsx\"\n",
    "wb = openpyxl.load_workbook(data_path, data_only=True)\n",
    "ws = wb['日度-肥猪价格']"
   ]
  },
  {
   "cell_type": "code",
   "execution_count": null,
   "metadata": {},
   "outputs": [],
   "source": [
    "'''\n",
    "检索数据库日期表并返回列表，对比导入数据日期，不在日期列表内所有数据获取并导入数据库\n",
    "'''\n",
    "\n"
   ]
  },
  {
   "cell_type": "code",
   "execution_count": 3,
   "metadata": {},
   "outputs": [
    {
     "name": "stdout",
     "output_type": "stream",
     "text": [
      "d:\\miniconda\\envs\\ckywork\\Lib\\site-packages\\iFinDPy.pth\n"
     ]
    },
    {
     "data": {
      "text/plain": [
       "0"
      ]
     },
     "execution_count": 3,
     "metadata": {},
     "output_type": "execute_result"
    }
   ],
   "source": [
    "from iFinDPy import *\n",
    "\n",
    "THS_iFinDLogin('ztqh165', 'ZDXWXY123')\n",
    "list_demo = THS_DS('LH2309.DCE, LH2311.DCE','ths_close_price_future','','Days:Alldays','2023-08-31','2023-08-31')\n",
    "list_demo.data\n",
    "THS_iFinDLogout()"
   ]
  },
  {
   "cell_type": "code",
   "execution_count": 4,
   "metadata": {},
   "outputs": [
    {
     "data": {
      "text/html": [
       "<div>\n",
       "<style scoped>\n",
       "    .dataframe tbody tr th:only-of-type {\n",
       "        vertical-align: middle;\n",
       "    }\n",
       "\n",
       "    .dataframe tbody tr th {\n",
       "        vertical-align: top;\n",
       "    }\n",
       "\n",
       "    .dataframe thead th {\n",
       "        text-align: right;\n",
       "    }\n",
       "</style>\n",
       "<table border=\"1\" class=\"dataframe\">\n",
       "  <thead>\n",
       "    <tr style=\"text-align: right;\">\n",
       "      <th></th>\n",
       "      <th>time</th>\n",
       "      <th>thscode</th>\n",
       "      <th>ths_close_price_future</th>\n",
       "    </tr>\n",
       "  </thead>\n",
       "  <tbody>\n",
       "    <tr>\n",
       "      <th>0</th>\n",
       "      <td>2023-08-31</td>\n",
       "      <td>LH2309.DCE</td>\n",
       "      <td>16225.0</td>\n",
       "    </tr>\n",
       "    <tr>\n",
       "      <th>1</th>\n",
       "      <td>2023-08-31</td>\n",
       "      <td>LH2311.DCE</td>\n",
       "      <td>16845.0</td>\n",
       "    </tr>\n",
       "  </tbody>\n",
       "</table>\n",
       "</div>"
      ],
      "text/plain": [
       "         time     thscode  ths_close_price_future\n",
       "0  2023-08-31  LH2309.DCE                 16225.0\n",
       "1  2023-08-31  LH2311.DCE                 16845.0"
      ]
     },
     "execution_count": 4,
     "metadata": {},
     "output_type": "execute_result"
    }
   ],
   "source": [
    "list_demo.data"
   ]
  },
  {
   "cell_type": "code",
   "execution_count": 5,
   "metadata": {},
   "outputs": [
    {
     "data": {
      "text/plain": [
       "16225.0"
      ]
     },
     "execution_count": 5,
     "metadata": {},
     "output_type": "execute_result"
    }
   ],
   "source": [
    "fp_data = list_demo.data\n",
    "fp_data.iloc[0][2]"
   ]
  },
  {
   "cell_type": "code",
   "execution_count": 6,
   "metadata": {},
   "outputs": [
    {
     "name": "stdout",
     "output_type": "stream",
     "text": [
      "2023-08-31 LH2309.DCE 16225 已录入\n",
      "2023-08-31 LH2311.DCE 16845 已录入\n"
     ]
    }
   ],
   "source": [
    "# 打开数据库连接\n",
    "conn = pymysql.connect(host='gz-cdb-50zykywd.sql.tencentcdb.com',\n",
    "                     port=58639,\n",
    "                     user='user_biz',\n",
    "                     password='V6VK2MtXYQCY',\n",
    "                     database='biz_data')\n",
    " \n",
    "# 使用 cursor() 方法创建一个游标对象 cursor\n",
    "cursor = conn.cursor()\n",
    "for i in range(0, len(fp_data)):\n",
    "    date = fp_data.iloc[i][0]\n",
    "    fp_type = fp_data.iloc[i][1]\n",
    "    price = fp_data.iloc[i][2]\n",
    "    cursor.execute(\n",
    "        \"INSERT INTO closed_price VALUES ('%s', '%s', %d);\"\n",
    "        % (date, fp_type, price)\n",
    "    )\n",
    "    print(\"%s %s %d 已录入\" % (date, fp_type, price))  \n",
    "    conn.commit()\n",
    "\n",
    "    cursor.execute(\n",
    "        \"UPDATE closed_price SET closed_price.type = 'LH2309' WHERE closed_price.type='LH2309.DCE';\"\n",
    "    )\n",
    "    conn.commit()\n",
    "\n",
    "    cursor.execute(\n",
    "        \"UPDATE closed_price SET closed_price.type = 'LH2311' WHERE closed_price.type='LH2311.DCE';\"\n",
    "    )\n",
    "    conn.commit()\n",
    "cursor.close()\n",
    "conn.close()"
   ]
  },
  {
   "cell_type": "code",
   "execution_count": 57,
   "metadata": {},
   "outputs": [
    {
     "data": {
      "text/plain": [
       "'2023-08-11'"
      ]
     },
     "execution_count": 57,
     "metadata": {},
     "output_type": "execute_result"
    }
   ],
   "source": [
    "import pandas as pd\n",
    "\n",
    "list_demo.data.iloc[1,0]"
   ]
  },
  {
   "cell_type": "code",
   "execution_count": 8,
   "metadata": {},
   "outputs": [],
   "source": [
    "# 打开数据库连接\n",
    "conn = pymysql.connect(host='gz-cdb-50zykywd.sql.tencentcdb.com',\n",
    "                     port=58639,\n",
    "                     user='user_biz',\n",
    "                     password='V6VK2MtXYQCY',\n",
    "                     database='biz_data')\n",
    " \n",
    "# 使用 cursor() 方法创建一个游标对象 cursor\n",
    "cursor = conn.cursor()\n",
    " \n",
    "for j in range (2, ws.max_column + 1):\n",
    "    district = str(ws.cell(1, j).value)\n",
    "    # for i in range (2, ws1.max_row):\n",
    "    date = ws.cell(2, 1).value\n",
    "    if type(date) != datetime.datetime:\n",
    "        continue\n",
    "    else:\n",
    "        date = date.strftime(\"%Y/%m/%d\")\n",
    "        price = ws.cell(2, j).value\n",
    "        price = price\n",
    "        # if type(price) == float:\n",
    "            # 使用 execute()  方法执行 SQL 查询 \n",
    "        cursor.execute(\n",
    "            \"INSERT INTO district_price_gp VALUES ('%s', %.2f, %d, '%s');\"\n",
    "            % (date, price, 120, district)\n",
    "        )\n",
    "        conn.commit()\n",
    "    # else:\n",
    "    #     continue\n",
    "conn.close() "
   ]
  },
  {
   "cell_type": "code",
   "execution_count": null,
   "metadata": {},
   "outputs": [],
   "source": []
  },
  {
   "cell_type": "code",
   "execution_count": null,
   "metadata": {},
   "outputs": [],
   "source": [
    "# 打开数据库连接\n",
    "conn = pymysql.connect(host='gz-cdb-50zykywd.sql.tencentcdb.com',\n",
    "                     port=58639,\n",
    "                     user='user_biz',\n",
    "                     password='V6VK2MtXYQCY',\n",
    "                     database='biz_data')\n",
    " \n",
    "# 使用 cursor() 方法创建一个游标对象 cursor\n",
    "cursor = conn.cursor()\n",
    " \n",
    "for j in range (2, 12):\n",
    "    district = str(ws.cell(1, j).value)\n",
    "    # for i in range (2, ws1.max_row):\n",
    "    date = ws.cell(2, 1).value\n",
    "    if type(date) != datetime.datetime:\n",
    "        continue\n",
    "    else:\n",
    "        date = date.strftime(\"%Y/%m/%d\")\n",
    "        price = ws.cell(2, j).value\n",
    "        price = price\n",
    "        # if type(price) == float:\n",
    "            # 使用 execute()  方法执行 SQL 查询 \n",
    "        cursor.execute(\n",
    "            \"INSERT INTO district_price_gp_cd VALUES ('%s', %.2f, '%s');\"\n",
    "            % (date, price, district)\n",
    "        )\n",
    "        conn.commit()\n",
    "    # else:\n",
    "    #     continue\n",
    "conn.close() "
   ]
  },
  {
   "cell_type": "code",
   "execution_count": null,
   "metadata": {},
   "outputs": [],
   "source": [
    "# 打开数据库连接\n",
    "conn = pymysql.connect(host='gz-cdb-50zykywd.sql.tencentcdb.com',\n",
    "                     port=58639,\n",
    "                     user='user_biz',\n",
    "                     password='V6VK2MtXYQCY',\n",
    "                     database='biz_data')\n",
    " \n",
    "# 使用 cursor() 方法创建一个游标对象 cursor\n",
    "cursor = conn.cursor()\n",
    " \n",
    "for j in range (2, ws.max_column + 1):\n",
    "    district = str(ws.cell(1, j).value)\n",
    "    for i in range (2, 10):\n",
    "        date = ws.cell(i, 1).value\n",
    "        date = date.strftime(\"%Y/%m/%d\")\n",
    "        price = ws.cell(i, j).value\n",
    "        price = price\n",
    "        # if type(price) == float:\n",
    "            # 使用 execute()  方法执行 SQL 查询 \n",
    "        cursor.execute(\n",
    "            \"UPDATE district_price_gp SET price = %.2f WHERE date = '%s' AND weight = %d AND district = '%S';\"\n",
    "            % (price, date, 120, district)\n",
    "        )\n",
    "        conn.commit()\n",
    "    # else:\n",
    "    #     continue\n",
    "conn.close() "
   ]
  }
 ],
 "metadata": {
  "kernelspec": {
   "display_name": "ckywork",
   "language": "python",
   "name": "python3"
  },
  "language_info": {
   "codemirror_mode": {
    "name": "ipython",
    "version": 3
   },
   "file_extension": ".py",
   "mimetype": "text/x-python",
   "name": "python",
   "nbconvert_exporter": "python",
   "pygments_lexer": "ipython3",
   "version": "3.10.9"
  },
  "orig_nbformat": 4
 },
 "nbformat": 4,
 "nbformat_minor": 2
}
