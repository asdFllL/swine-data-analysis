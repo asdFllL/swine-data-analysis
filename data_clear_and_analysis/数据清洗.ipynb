{
 "cells": [
  {
   "attachments": {},
   "cell_type": "markdown",
   "metadata": {},
   "source": [
    "### 猪价及供给端的数据清洗整合\n",
    "\n",
    "1. 选取数据并进行清洗整合：几个变量处于不同数量级，不同年月日。主要目的是将他们进行日期的统一化和数据正则化。\n",
    "\n",
    "5大数据：\n",
    "    - 猪价：日度数据，周末为空白值\n",
    "    - 能繁存栏：官方给定数据为季度数据，第三方数据一般为月度数据\n",
    "    - 出栏：官方给定数据为季度数据，第三方的抽样调查为月度数据\n",
    "    - 屠宰：官方给定数据为季度或月度数据，三方抽样调查为月度数据\n",
    "    - 出栏均重\n",
    "\n",
    "能繁、出栏、屠宰、出栏均重为供给端数据，能繁会与PSY以及育肥成活率决定10个月后的市场产能；而出栏有可能并不是全部流入市场，可能在养殖端进行买卖给其他农户做二次育肥；屠宰量为当期流入市场的猪量，和宰后均重共同决定当期流入市场的真正供给量。\n",
    "\n",
    "变量间理论关系：能繁在后移10个月后应与出栏、屠宰三者呈正相关关系；当屠宰和出栏呈负相关关系时证明出栏的猪并没有完全流入市场，而是有部分流入养殖户手中，若是用于二次育肥，那么后期1-2个月的宰后均重和出栏均重应该有明显增长；当屠宰和出栏关系正常而能繁和猪价关系不正常时要看当期PSY和MSY是否有变化，PSY和MSY的变化可能抹平能繁的异常变化。\n",
    "\n"
   ]
  },
  {
   "cell_type": "code",
   "execution_count": 20,
   "metadata": {},
   "outputs": [],
   "source": [
    "# 1.1 猪价季节性特征\n",
    "\n",
    "# 加载数据包\n",
    "import numpy as np\n",
    "import pandas as pd\n",
    "import matplotlib.pyplot as plt"
   ]
  },
  {
   "cell_type": "code",
   "execution_count": 29,
   "metadata": {},
   "outputs": [],
   "source": [
    "# 载入数据，猪价采用钢联数据库提供日度猪价数据\n",
    "data_price = pd.read_excel(\"database/GL_20230227.xlsx\", sheet_name=\"外三元现货价（2013年起）\")"
   ]
  },
  {
   "cell_type": "code",
   "execution_count": 30,
   "metadata": {},
   "outputs": [],
   "source": [
    "# 转换行列名\n",
    "data_price.columns = [\"日期\", \"价格\"]\n",
    "data_price = data_price.drop(index=0)"
   ]
  },
  {
   "cell_type": "code",
   "execution_count": 31,
   "metadata": {},
   "outputs": [],
   "source": [
    "data_price[\"日期\"] = pd.to_datetime(data_price[\"日期\"])\n",
    "data_price = data_price.set_index(\"日期\")\n"
   ]
  },
  {
   "cell_type": "code",
   "execution_count": 32,
   "metadata": {},
   "outputs": [],
   "source": [
    "data_monthly = data_price.groupby([data_price.index.year, data_price.index.month]).mean()\n"
   ]
  },
  {
   "cell_type": "code",
   "execution_count": 39,
   "metadata": {},
   "outputs": [
    {
     "data": {
      "text/html": [
       "<div>\n",
       "<style scoped>\n",
       "    .dataframe tbody tr th:only-of-type {\n",
       "        vertical-align: middle;\n",
       "    }\n",
       "\n",
       "    .dataframe tbody tr th {\n",
       "        vertical-align: top;\n",
       "    }\n",
       "\n",
       "    .dataframe thead th {\n",
       "        text-align: right;\n",
       "    }\n",
       "</style>\n",
       "<table border=\"1\" class=\"dataframe\">\n",
       "  <thead>\n",
       "    <tr style=\"text-align: right;\">\n",
       "      <th></th>\n",
       "      <th></th>\n",
       "      <th>价格</th>\n",
       "    </tr>\n",
       "    <tr>\n",
       "      <th>日期</th>\n",
       "      <th>日期</th>\n",
       "      <th></th>\n",
       "    </tr>\n",
       "  </thead>\n",
       "  <tbody>\n",
       "    <tr>\n",
       "      <th rowspan=\"3\" valign=\"top\">2022</th>\n",
       "      <th>10</th>\n",
       "      <td>26.387143</td>\n",
       "    </tr>\n",
       "    <tr>\n",
       "      <th>11</th>\n",
       "      <td>25.192273</td>\n",
       "    </tr>\n",
       "    <tr>\n",
       "      <th>12</th>\n",
       "      <td>20.177727</td>\n",
       "    </tr>\n",
       "    <tr>\n",
       "      <th rowspan=\"2\" valign=\"top\">2023</th>\n",
       "      <th>1</th>\n",
       "      <td>15.385909</td>\n",
       "    </tr>\n",
       "    <tr>\n",
       "      <th>2</th>\n",
       "      <td>14.494286</td>\n",
       "    </tr>\n",
       "  </tbody>\n",
       "</table>\n",
       "</div>"
      ],
      "text/plain": [
       "                价格\n",
       "日期   日期           \n",
       "2022 10  26.387143\n",
       "     11  25.192273\n",
       "     12  20.177727\n",
       "2023 1   15.385909\n",
       "     2   14.494286"
      ]
     },
     "execution_count": 39,
     "metadata": {},
     "output_type": "execute_result"
    }
   ],
   "source": [
    "data_monthly.tail()"
   ]
  },
  {
   "cell_type": "code",
   "execution_count": 45,
   "metadata": {},
   "outputs": [],
   "source": [
    "# 获取年份和月份列表\n",
    "years = data_price.index.year.unique()\n",
    "months = data_price.index.month.unique()"
   ]
  },
  {
   "cell_type": "code",
   "execution_count": 46,
   "metadata": {},
   "outputs": [
    {
     "data": {
      "text/plain": [
       "Int64Index([2, 1, 12, 11, 10, 9, 8, 7, 6, 5, 4, 3], dtype='int64', name='日期')"
      ]
     },
     "execution_count": 46,
     "metadata": {},
     "output_type": "execute_result"
    }
   ],
   "source": [
    "months"
   ]
  },
  {
   "cell_type": "code",
   "execution_count": null,
   "metadata": {},
   "outputs": [],
   "source": [
    "\n",
    "# 绘制折线图\n",
    "for year in years:\n",
    "    for month in months:\n",
    "        # 从数据中获取该年份和月份的销售额\n",
    "        sales = data_monthly.loc[(year, month), \"价格\"]\n",
    "        # 绘制折线图\n",
    "        plt.plot(sales.index, sales, label=f'{year}-{month}')\n",
    "\n",
    "# 添加标签和标题\n",
    "plt.xlabel('Month')\n",
    "plt.ylabel('Sales')\n",
    "plt.title('Sales Trends')\n",
    "\n",
    "# 设置x轴标签的刻度\n",
    "x_ticks = [f'{year}-{month}' for year in years for month in months]\n",
    "plt.xticks(range(len(x_ticks)), x_ticks, rotation=45, ha='right')\n",
    "\n",
    "# 添加图例\n",
    "plt.legend()\n",
    "\n",
    "# 显示图形\n",
    "plt.show()\n"
   ]
  },
  {
   "cell_type": "code",
   "execution_count": null,
   "metadata": {},
   "outputs": [],
   "source": []
  }
 ],
 "metadata": {
  "kernelspec": {
   "display_name": "ckywork",
   "language": "python",
   "name": "python3"
  },
  "language_info": {
   "codemirror_mode": {
    "name": "ipython",
    "version": 3
   },
   "file_extension": ".py",
   "mimetype": "text/x-python",
   "name": "python",
   "nbconvert_exporter": "python",
   "pygments_lexer": "ipython3",
   "version": "3.10.9"
  },
  "orig_nbformat": 4
 },
 "nbformat": 4,
 "nbformat_minor": 2
}
