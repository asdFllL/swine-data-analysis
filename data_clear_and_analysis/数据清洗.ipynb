{
 "cells": [
  {
   "attachments": {},
   "cell_type": "markdown",
   "metadata": {},
   "source": [
    "### 猪价及供给端的数据清洗整合\n",
    "\n",
    "1. 选取数据并进行清洗整合：几个变量处于不同数量级，不同年月日。主要目的是将他们进行日期的统一化和数据正则化。\n",
    "\n",
    "5大数据：\n",
    "    - 猪价：日度数据，周末为空白值\n",
    "    - 能繁存栏：官方给定数据为季度数据，第三方数据一般为月度数据\n",
    "    - 出栏：官方给定数据为季度数据，第三方的抽样调查为月度数据\n",
    "    - 屠宰：官方给定数据为季度或月度数据，三方抽样调查为月度数据\n",
    "    - 出栏均重\n",
    "\n",
    "能繁、出栏、屠宰、出栏均重为供给端数据，能繁会与PSY以及育肥成活率决定10个月后的市场产能；而出栏有可能并不是全部流入市场，可能在养殖端进行买卖给其他农户做二次育肥；屠宰量为当期流入市场的猪量，和宰后均重共同决定当期流入市场的真正供给量。\n",
    "\n",
    "变量间理论关系：能繁在后移10个月后应与出栏、屠宰三者呈正相关关系；当屠宰和出栏呈负相关关系时证明出栏的猪并没有完全流入市场，而是有部分流入养殖户手中，若是用于二次育肥，那么后期1-2个月的宰后均重和出栏均重应该有明显增长；当屠宰和出栏关系正常而能繁和猪价关系不正常时要看当期PSY和MSY是否有变化，PSY和MSY的变化可能抹平能繁的异常变化。\n",
    "\n"
   ]
  },
  {
   "cell_type": "code",
   "execution_count": 4,
   "metadata": {},
   "outputs": [
    {
     "data": {
      "text/plain": [
       "2"
      ]
     },
     "execution_count": 4,
     "metadata": {},
     "output_type": "execute_result"
    }
   ],
   "source": [
    "# 1.1 猪价季节性特征\n",
    "\n",
    "# 加载数据包\n",
    "import numpy as np\n",
    "import pandas as pd"
   ]
  },
  {
   "cell_type": "code",
   "execution_count": null,
   "metadata": {},
   "outputs": [],
   "source": [
    "# 载入数据，猪价采用钢联数据库提供日度猪价数据\n"
   ]
  }
 ],
 "metadata": {
  "kernelspec": {
   "display_name": "ckywork",
   "language": "python",
   "name": "python3"
  },
  "language_info": {
   "codemirror_mode": {
    "name": "ipython",
    "version": 3
   },
   "file_extension": ".py",
   "mimetype": "text/x-python",
   "name": "python",
   "nbconvert_exporter": "python",
   "pygments_lexer": "ipython3",
   "version": "3.10.9"
  },
  "orig_nbformat": 4
 },
 "nbformat": 4,
 "nbformat_minor": 2
}
