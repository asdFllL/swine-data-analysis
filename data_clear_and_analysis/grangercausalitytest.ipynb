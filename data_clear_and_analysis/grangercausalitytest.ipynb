{
 "cells": [
  {
   "attachments": {},
   "cell_type": "markdown",
   "metadata": {},
   "source": [
    "理论认为距离消费终端越近，价格的传导就越慢，而白条和生猪的价格以及之间的差价反应了猪肉行业“增加值”在不同产业链的分布情况，也反映了中间环节在传递供需双方信息时的倾向。从数据分类中有探讨到毛白价差的变化引起来源不同，代表了市场中供需的不同变化，而不同的供需变化又会影响到后面的价格。那么毛白价差的变化是否会影响到后期猪价变化，用格兰杰因果检验测试：\n",
    "\n",
    "第一步：进行ADF检验和协整检验，如果都不通过则进行差分，以便后面进行VAR确定最优滞后阶数。论认为距离消费终端越近，价格的传导就越慢，而白条和生猪的价格以及之间的差价反应了猪肉行业“增加值”在不同产业链的分布情况，也反映了中间环节在传递供需双方信息时的倾向。从数据分类中有探讨到毛白价差的变化引起来源不同，代表了市场中供需的不同变化，而不同的供需变化又会影响到后面的价格。那么毛白价差的变化是否会影响到后期猪价变化，用格兰杰因果检验测试：\n",
    "\n",
    "第一步：进行ADF检验和协整检验，如果都不通过则进行差分，以便后面进行VAR确定最优滞后阶数。"
   ]
  },
  {
   "cell_type": "code",
   "execution_count": 1,
   "metadata": {},
   "outputs": [],
   "source": [
    "from statsmodels.tsa.stattools import grangercausalitytests\n",
    "from statsmodels.tsa.api import VAR\n",
    "from statsmodels.tsa.stattools import adfuller\n",
    "import pandas as pd\n",
    "import numpy as np"
   ]
  },
  {
   "cell_type": "code",
   "execution_count": 43,
   "metadata": {},
   "outputs": [],
   "source": [
    "# 引入Elite日度毛白价差和金猪日度生猪均价\n",
    "dataPigPrice = pd.read_excel(r\"D:\\git\\新建文件夹\\swine-data-analysis\\data_clear_and_analysis\\database\\GL_20230227.xlsx\", sheet_name=\"出栏价格\")\n",
    "dataPigPriceAndBarPrice = pd.read_excel(r\"database/ELite_20230320.xlsx\", sheet_name=\"白毛价差\")"
   ]
  },
  {
   "cell_type": "code",
   "execution_count": 44,
   "metadata": {},
   "outputs": [],
   "source": [
    "# 取生猪价格和毛白价差连接，并更改列名\n",
    "dataPigPrice = dataPigPrice.iloc[:, 1:3]\n",
    "dataPigPrice = dataPigPrice.drop(index = dataPigPrice.index[[0,1]])\n",
    "dataPigPriceAndBarPrice = dataPigPriceAndBarPrice.drop(index = dataPigPriceAndBarPrice.index[[0]])"
   ]
  },
  {
   "cell_type": "code",
   "execution_count": 45,
   "metadata": {},
   "outputs": [],
   "source": [
    "dataPigPrice.columns = ['Time', 'PigPrice']\n",
    "dataPigPriceAndBarPrice.columns = ['Time', '毛白价差']\n",
    "dataPigPrice['PigPrice'].fillna(method='bfill', inplace=True)"
   ]
  },
  {
   "cell_type": "code",
   "execution_count": 46,
   "metadata": {},
   "outputs": [],
   "source": [
    "dataPigPriceAndBarPrice['毛白价差'].fillna(method='bfill', inplace=True)"
   ]
  },
  {
   "cell_type": "code",
   "execution_count": 50,
   "metadata": {},
   "outputs": [],
   "source": [
    "dataUse = dataPigPriceAndBarPrice.set_index('Time').join(dataPigPrice.set_index('Time'))\n",
    "dataUseNoNan = dataUse.dropna()"
   ]
  },
  {
   "cell_type": "code",
   "execution_count": 51,
   "metadata": {},
   "outputs": [
    {
     "data": {
      "text/html": [
       "<div>\n",
       "<style scoped>\n",
       "    .dataframe tbody tr th:only-of-type {\n",
       "        vertical-align: middle;\n",
       "    }\n",
       "\n",
       "    .dataframe tbody tr th {\n",
       "        vertical-align: top;\n",
       "    }\n",
       "\n",
       "    .dataframe thead th {\n",
       "        text-align: right;\n",
       "    }\n",
       "</style>\n",
       "<table border=\"1\" class=\"dataframe\">\n",
       "  <thead>\n",
       "    <tr style=\"text-align: right;\">\n",
       "      <th></th>\n",
       "      <th>毛白价差</th>\n",
       "      <th>PigPrice</th>\n",
       "    </tr>\n",
       "    <tr>\n",
       "      <th>Time</th>\n",
       "      <th></th>\n",
       "      <th></th>\n",
       "    </tr>\n",
       "  </thead>\n",
       "  <tbody>\n",
       "    <tr>\n",
       "      <th>2023-03-10</th>\n",
       "      <td>3.95</td>\n",
       "      <td>15.57</td>\n",
       "    </tr>\n",
       "    <tr>\n",
       "      <th>2023-03-09</th>\n",
       "      <td>3.96</td>\n",
       "      <td>15.57</td>\n",
       "    </tr>\n",
       "    <tr>\n",
       "      <th>2023-03-08</th>\n",
       "      <td>3.89</td>\n",
       "      <td>15.75</td>\n",
       "    </tr>\n",
       "    <tr>\n",
       "      <th>2023-03-07</th>\n",
       "      <td>3.80</td>\n",
       "      <td>15.83</td>\n",
       "    </tr>\n",
       "    <tr>\n",
       "      <th>2023-03-06</th>\n",
       "      <td>3.85</td>\n",
       "      <td>15.68</td>\n",
       "    </tr>\n",
       "    <tr>\n",
       "      <th>...</th>\n",
       "      <td>...</td>\n",
       "      <td>...</td>\n",
       "    </tr>\n",
       "    <tr>\n",
       "      <th>2018-01-08</th>\n",
       "      <td>5.18</td>\n",
       "      <td>15.34</td>\n",
       "    </tr>\n",
       "    <tr>\n",
       "      <th>2018-01-05</th>\n",
       "      <td>5.23</td>\n",
       "      <td>15.12</td>\n",
       "    </tr>\n",
       "    <tr>\n",
       "      <th>2018-01-04</th>\n",
       "      <td>5.23</td>\n",
       "      <td>15.06</td>\n",
       "    </tr>\n",
       "    <tr>\n",
       "      <th>2018-01-03</th>\n",
       "      <td>5.11</td>\n",
       "      <td>15.04</td>\n",
       "    </tr>\n",
       "    <tr>\n",
       "      <th>2018-01-02</th>\n",
       "      <td>4.97</td>\n",
       "      <td>15.05</td>\n",
       "    </tr>\n",
       "  </tbody>\n",
       "</table>\n",
       "<p>1293 rows × 2 columns</p>\n",
       "</div>"
      ],
      "text/plain": [
       "            毛白价差  PigPrice\n",
       "Time                      \n",
       "2023-03-10  3.95     15.57\n",
       "2023-03-09  3.96     15.57\n",
       "2023-03-08  3.89     15.75\n",
       "2023-03-07  3.80     15.83\n",
       "2023-03-06  3.85     15.68\n",
       "...          ...       ...\n",
       "2018-01-08  5.18     15.34\n",
       "2018-01-05  5.23     15.12\n",
       "2018-01-04  5.23     15.06\n",
       "2018-01-03  5.11     15.04\n",
       "2018-01-02  4.97     15.05\n",
       "\n",
       "[1293 rows x 2 columns]"
      ]
     },
     "execution_count": 51,
     "metadata": {},
     "output_type": "execute_result"
    }
   ],
   "source": [
    "dataUseNoNan"
   ]
  },
  {
   "cell_type": "code",
   "execution_count": 53,
   "metadata": {},
   "outputs": [
    {
     "name": "stdout",
     "output_type": "stream",
     "text": [
      "(-1.6236178509391657, 0.4708331120564497, 9, 1283, {'1%': -3.435457117423131, '5%': -2.863795358068796, '10%': -2.567970771161219}, 869.9049156290052)\n",
      "(-1.9750178752123888, 0.29763315318814504, 0, 1292, {'1%': -3.4354214704688113, '5%': -2.863779629316101, '10%': -2.567962394851863}, 55.056868374694204)\n"
     ]
    }
   ],
   "source": [
    "print(adfuller(dataUseNoNan['PigPrice']))\n",
    "print(adfuller(dataUseNoNan['毛白价差']))"
   ]
  },
  {
   "attachments": {},
   "cell_type": "markdown",
   "metadata": {},
   "source": [
    "从生猪价格的adf检验结果来说不能拒绝原假设，所以为非平稳序列，需要进行差分后得到平稳序列"
   ]
  },
  {
   "cell_type": "code",
   "execution_count": 55,
   "metadata": {},
   "outputs": [],
   "source": [
    "# 将生猪价格和毛白价差进行差分\n",
    "pigPrice_transform1 = dataUseNoNan['PigPrice'].diff().dropna()\n",
    "pigPriceAndBar_transform1 = dataUseNoNan['毛白价差'].diff().dropna()"
   ]
  },
  {
   "cell_type": "code",
   "execution_count": 56,
   "metadata": {},
   "outputs": [
    {
     "name": "stdout",
     "output_type": "stream",
     "text": [
      "(-8.298303351711777, 4.0829585649289577e-13, 8, 1283, {'1%': -3.435457117423131, '5%': -2.863795358068796, '10%': -2.567970771161219}, 870.913301365018)\n",
      "(-36.44413153722199, 0.0, 0, 1291, {'1%': -3.4354254066484664, '5%': -2.863781366113082, '10%': -2.56796331977745}, 59.53633596673217)\n"
     ]
    }
   ],
   "source": [
    "print(adfuller(pigPrice_transform1))\n",
    "print(adfuller(pigPriceAndBar_transform1))"
   ]
  },
  {
   "attachments": {},
   "cell_type": "markdown",
   "metadata": {},
   "source": [
    "经过1阶差分后两个序列在adf检验下呈平稳状态，可以进行VAR寻找最优滞后阶数"
   ]
  },
  {
   "cell_type": "code",
   "execution_count": null,
   "metadata": {},
   "outputs": [],
   "source": []
  }
 ],
 "metadata": {
  "kernelspec": {
   "display_name": "ckywork",
   "language": "python",
   "name": "python3"
  },
  "language_info": {
   "codemirror_mode": {
    "name": "ipython",
    "version": 3
   },
   "file_extension": ".py",
   "mimetype": "text/x-python",
   "name": "python",
   "nbconvert_exporter": "python",
   "pygments_lexer": "ipython3",
   "version": "3.10.9"
  },
  "orig_nbformat": 4
 },
 "nbformat": 4,
 "nbformat_minor": 2
}
