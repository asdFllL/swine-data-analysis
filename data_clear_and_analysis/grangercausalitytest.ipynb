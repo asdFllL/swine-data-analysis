{
 "cells": [
  {
   "attachments": {},
   "cell_type": "markdown",
   "metadata": {},
   "source": [
    "理论认为距离消费终端越近，价格的传导就越慢，而白条和生猪的价格以及之间的差价反应了猪肉行业“增加值”在不同产业链的分布情况，也反映了中间环节在传递供需双方信息时的倾向。从数据分类中有探讨到毛白价差的变化引起来源不同，代表了市场中供需的不同变化，而不同的供需变化又会影响到后面的价格。那么毛白价差的变化是否会影响到后期猪价变化，用格兰杰因果检验测试：\n",
    "\n",
    "第一步：进行ADF检验和协整检验，如果都不通过则进行差分，以便后面进行VAR确定最优滞后阶数。论认为距离消费终端越近，价格的传导就越慢，而白条和生猪的价格以及之间的差价反应了猪肉行业“增加值”在不同产业链的分布情况，也反映了中间环节在传递供需双方信息时的倾向。从数据分类中有探讨到毛白价差的变化引起来源不同，代表了市场中供需的不同变化，而不同的供需变化又会影响到后面的价格。那么毛白价差的变化是否会影响到后期猪价变化，用格兰杰因果检验测试：\n",
    "\n",
    "第一步：进行ADF检验和协整检验，如果都不通过则进行差分，以便后面进行VAR确定最优滞后阶数。"
   ]
  },
  {
   "cell_type": "code",
   "execution_count": 2,
   "metadata": {},
   "outputs": [],
   "source": [
    "from statsmodels.tsa.stattools import grangercausalitytests\n",
    "from statsmodels.tsa.api import VAR\n",
    "from statsmodels.tsa.stattools import adfuller\n",
    "import pandas as pd\n",
    "import numpy as np"
   ]
  },
  {
   "cell_type": "code",
   "execution_count": 3,
   "metadata": {},
   "outputs": [],
   "source": [
    "# 引入Elite日度毛白价差和金猪日度生猪均价\n",
    "dataPigPrice = pd.read_excel(r\"D:\\git\\新建文件夹\\swine-data-analysis\\data_clear_and_analysis\\database\\GL_20230227.xlsx\", sheet_name=\"出栏价格\")\n",
    "dataPigPriceAndBarPrice = pd.read_excel(r\"database/ELite_20230320.xlsx\", sheet_name=\"白毛价差\")"
   ]
  },
  {
   "cell_type": "code",
   "execution_count": 4,
   "metadata": {},
   "outputs": [],
   "source": [
    "# 取生猪价格和毛白价差连接，并更改列名\n",
    "dataPigPrice = dataPigPrice.iloc[:, 1:3]\n",
    "dataPigPrice = dataPigPrice.drop(index = dataPigPrice.index[[0,1]])\n",
    "dataPigPriceAndBarPrice = dataPigPriceAndBarPrice.drop(index = dataPigPriceAndBarPrice.index[[0]])"
   ]
  },
  {
   "cell_type": "code",
   "execution_count": 5,
   "metadata": {},
   "outputs": [],
   "source": [
    "dataPigPrice.columns = ['Time', 'PigPrice']\n",
    "dataPigPriceAndBarPrice.columns = ['Time', '毛白价差']\n",
    "dataPigPrice['PigPrice'].fillna(method='bfill', inplace=True)"
   ]
  },
  {
   "cell_type": "code",
   "execution_count": 6,
   "metadata": {},
   "outputs": [],
   "source": [
    "dataPigPriceAndBarPrice['毛白价差'].fillna(method='bfill', inplace=True)"
   ]
  },
  {
   "cell_type": "code",
   "execution_count": 7,
   "metadata": {},
   "outputs": [],
   "source": [
    "dataUse = dataPigPriceAndBarPrice.set_index('Time').join(dataPigPrice.set_index('Time'))\n",
    "dataUseNoNan = dataUse.dropna()"
   ]
  },
  {
   "cell_type": "code",
   "execution_count": 8,
   "metadata": {},
   "outputs": [
    {
     "data": {
      "text/html": [
       "<div>\n",
       "<style scoped>\n",
       "    .dataframe tbody tr th:only-of-type {\n",
       "        vertical-align: middle;\n",
       "    }\n",
       "\n",
       "    .dataframe tbody tr th {\n",
       "        vertical-align: top;\n",
       "    }\n",
       "\n",
       "    .dataframe thead th {\n",
       "        text-align: right;\n",
       "    }\n",
       "</style>\n",
       "<table border=\"1\" class=\"dataframe\">\n",
       "  <thead>\n",
       "    <tr style=\"text-align: right;\">\n",
       "      <th></th>\n",
       "      <th>毛白价差</th>\n",
       "      <th>PigPrice</th>\n",
       "    </tr>\n",
       "    <tr>\n",
       "      <th>Time</th>\n",
       "      <th></th>\n",
       "      <th></th>\n",
       "    </tr>\n",
       "  </thead>\n",
       "  <tbody>\n",
       "    <tr>\n",
       "      <th>2023-03-10</th>\n",
       "      <td>3.95</td>\n",
       "      <td>15.57</td>\n",
       "    </tr>\n",
       "    <tr>\n",
       "      <th>2023-03-09</th>\n",
       "      <td>3.96</td>\n",
       "      <td>15.57</td>\n",
       "    </tr>\n",
       "    <tr>\n",
       "      <th>2023-03-08</th>\n",
       "      <td>3.89</td>\n",
       "      <td>15.75</td>\n",
       "    </tr>\n",
       "    <tr>\n",
       "      <th>2023-03-07</th>\n",
       "      <td>3.80</td>\n",
       "      <td>15.83</td>\n",
       "    </tr>\n",
       "    <tr>\n",
       "      <th>2023-03-06</th>\n",
       "      <td>3.85</td>\n",
       "      <td>15.68</td>\n",
       "    </tr>\n",
       "    <tr>\n",
       "      <th>...</th>\n",
       "      <td>...</td>\n",
       "      <td>...</td>\n",
       "    </tr>\n",
       "    <tr>\n",
       "      <th>2018-01-08</th>\n",
       "      <td>5.18</td>\n",
       "      <td>15.34</td>\n",
       "    </tr>\n",
       "    <tr>\n",
       "      <th>2018-01-05</th>\n",
       "      <td>5.23</td>\n",
       "      <td>15.12</td>\n",
       "    </tr>\n",
       "    <tr>\n",
       "      <th>2018-01-04</th>\n",
       "      <td>5.23</td>\n",
       "      <td>15.06</td>\n",
       "    </tr>\n",
       "    <tr>\n",
       "      <th>2018-01-03</th>\n",
       "      <td>5.11</td>\n",
       "      <td>15.04</td>\n",
       "    </tr>\n",
       "    <tr>\n",
       "      <th>2018-01-02</th>\n",
       "      <td>4.97</td>\n",
       "      <td>15.05</td>\n",
       "    </tr>\n",
       "  </tbody>\n",
       "</table>\n",
       "<p>1293 rows × 2 columns</p>\n",
       "</div>"
      ],
      "text/plain": [
       "            毛白价差  PigPrice\n",
       "Time                      \n",
       "2023-03-10  3.95     15.57\n",
       "2023-03-09  3.96     15.57\n",
       "2023-03-08  3.89     15.75\n",
       "2023-03-07  3.80     15.83\n",
       "2023-03-06  3.85     15.68\n",
       "...          ...       ...\n",
       "2018-01-08  5.18     15.34\n",
       "2018-01-05  5.23     15.12\n",
       "2018-01-04  5.23     15.06\n",
       "2018-01-03  5.11     15.04\n",
       "2018-01-02  4.97     15.05\n",
       "\n",
       "[1293 rows x 2 columns]"
      ]
     },
     "execution_count": 8,
     "metadata": {},
     "output_type": "execute_result"
    }
   ],
   "source": [
    "dataUseNoNan"
   ]
  },
  {
   "cell_type": "code",
   "execution_count": 9,
   "metadata": {},
   "outputs": [
    {
     "name": "stdout",
     "output_type": "stream",
     "text": [
      "(-1.6236178509391657, 0.4708331120564497, 9, 1283, {'1%': -3.435457117423131, '5%': -2.863795358068796, '10%': -2.567970771161219}, 869.9049156290052)\n",
      "(-1.9750178752123888, 0.29763315318814504, 0, 1292, {'1%': -3.4354214704688113, '5%': -2.863779629316101, '10%': -2.567962394851863}, 55.056868374694204)\n"
     ]
    }
   ],
   "source": [
    "print(adfuller(dataUseNoNan['PigPrice']))\n",
    "print(adfuller(dataUseNoNan['毛白价差']))"
   ]
  },
  {
   "attachments": {},
   "cell_type": "markdown",
   "metadata": {},
   "source": [
    "从生猪价格的adf检验结果来说不能拒绝原假设，所以为非平稳序列，需要进行差分后得到平稳序列"
   ]
  },
  {
   "cell_type": "code",
   "execution_count": 10,
   "metadata": {},
   "outputs": [],
   "source": [
    "# 将生猪价格和毛白价差进行差分\n",
    "pigPrice_transform1 = dataUseNoNan['PigPrice'].diff().dropna()\n",
    "pigPriceAndBar_transform1 = dataUseNoNan['毛白价差'].diff().dropna()"
   ]
  },
  {
   "cell_type": "code",
   "execution_count": 11,
   "metadata": {},
   "outputs": [
    {
     "name": "stdout",
     "output_type": "stream",
     "text": [
      "(-8.298303351711777, 4.0829585649289577e-13, 8, 1283, {'1%': -3.435457117423131, '5%': -2.863795358068796, '10%': -2.567970771161219}, 870.913301365018)\n",
      "(-36.44413153722199, 0.0, 0, 1291, {'1%': -3.4354254066484664, '5%': -2.863781366113082, '10%': -2.56796331977745}, 59.53633596673217)\n"
     ]
    }
   ],
   "source": [
    "print(adfuller(pigPrice_transform1))\n",
    "print(adfuller(pigPriceAndBar_transform1))"
   ]
  },
  {
   "attachments": {},
   "cell_type": "markdown",
   "metadata": {},
   "source": [
    "经过1阶差分后两个序列在adf检验下呈平稳状态，可以进行VAR寻找最优滞后阶数\n",
    "VAR："
   ]
  },
  {
   "cell_type": "code",
   "execution_count": 12,
   "metadata": {},
   "outputs": [],
   "source": [
    "dataTransformed = pd.DataFrame({'pigPrice':pigPrice_transform1, 'pigPriceAndBar':pigPriceAndBar_transform1})"
   ]
  },
  {
   "cell_type": "code",
   "execution_count": 16,
   "metadata": {},
   "outputs": [
    {
     "name": "stdout",
     "output_type": "stream",
     "text": [
      "Lag Order = 0\n",
      "AIC =  -4.86297385891561\n",
      "Lag Order = 1\n",
      "AIC =  -5.031804247367507\n",
      "Lag Order = 2\n",
      "AIC =  -5.040153858253938\n",
      "Lag Order = 3\n",
      "AIC =  -5.052833563410093\n",
      "Lag Order = 4\n",
      "AIC =  -5.055180651660745\n",
      "Lag Order = 5\n",
      "AIC =  -5.063894592928211\n",
      "Lag Order = 6\n",
      "AIC =  -5.0606402769494\n",
      "Lag Order = 7\n",
      "AIC =  -5.056568333604771\n",
      "Lag Order = 8\n",
      "AIC =  -5.056144327210202\n",
      "Lag Order = 9\n",
      "AIC =  -5.051849667666991\n",
      "Lag Order = 10\n",
      "AIC =  -5.050694291078923\n",
      "Lag Order = 11\n",
      "AIC =  -5.045364090296236\n",
      "Lag Order = 12\n",
      "AIC =  -5.042335985852025\n",
      "Lag Order = 13\n",
      "AIC =  -5.04104303730615\n",
      "Lag Order = 14\n",
      "AIC =  -5.038788200808069\n",
      "Lag Order = 15\n",
      "AIC =  -5.043265913217724\n"
     ]
    },
    {
     "name": "stderr",
     "output_type": "stream",
     "text": [
      "d:\\miniconda\\envs\\ckywork\\lib\\site-packages\\statsmodels\\tsa\\base\\tsa_model.py:471: ValueWarning: A date index has been provided, but it has no associated frequency information and so will be ignored when e.g. forecasting.\n",
      "  self._init_dates(dates, freq)\n",
      "d:\\miniconda\\envs\\ckywork\\lib\\site-packages\\statsmodels\\tsa\\base\\tsa_model.py:471: ValueWarning: A date index has been provided, but it is not monotonic and so will be ignored when e.g. forecasting.\n",
      "  self._init_dates(dates, freq)\n"
     ]
    }
   ],
   "source": [
    "model = VAR(dataTransformed)\n",
    "resultVARAic = {}\n",
    "for i in range(16):\n",
    "    result = model.fit(i)\n",
    "    print('Lag Order =', i)\n",
    "    print('AIC = ', result.aic)\n",
    "    resultVARAic[i] = result.aic"
   ]
  },
  {
   "cell_type": "code",
   "execution_count": 17,
   "metadata": {},
   "outputs": [
    {
     "data": {
      "text/plain": [
       "{0: -4.86297385891561,\n",
       " 1: -5.031804247367507,\n",
       " 2: -5.040153858253938,\n",
       " 3: -5.052833563410093,\n",
       " 4: -5.055180651660745,\n",
       " 5: -5.063894592928211,\n",
       " 6: -5.0606402769494,\n",
       " 7: -5.056568333604771,\n",
       " 8: -5.056144327210202,\n",
       " 9: -5.051849667666991,\n",
       " 10: -5.050694291078923,\n",
       " 11: -5.045364090296236,\n",
       " 12: -5.042335985852025,\n",
       " 13: -5.04104303730615,\n",
       " 14: -5.038788200808069,\n",
       " 15: -5.043265913217724}"
      ]
     },
     "execution_count": 17,
     "metadata": {},
     "output_type": "execute_result"
    }
   ],
   "source": [
    "resultVARAic"
   ]
  },
  {
   "cell_type": "code",
   "execution_count": 20,
   "metadata": {},
   "outputs": [
    {
     "data": {
      "text/plain": [
       "5"
      ]
     },
     "execution_count": 20,
     "metadata": {},
     "output_type": "execute_result"
    }
   ],
   "source": [
    "min(resultVARAic.items(), key=lambda x:x[1])[0]"
   ]
  },
  {
   "attachments": {},
   "cell_type": "markdown",
   "metadata": {},
   "source": [
    "从上文可以得到最优滞后阶数为5，将阶数带入到格兰杰因果检验中查看"
   ]
  },
  {
   "cell_type": "code",
   "execution_count": 21,
   "metadata": {},
   "outputs": [
    {
     "data": {
      "text/html": [
       "<div>\n",
       "<style scoped>\n",
       "    .dataframe tbody tr th:only-of-type {\n",
       "        vertical-align: middle;\n",
       "    }\n",
       "\n",
       "    .dataframe tbody tr th {\n",
       "        vertical-align: top;\n",
       "    }\n",
       "\n",
       "    .dataframe thead th {\n",
       "        text-align: right;\n",
       "    }\n",
       "</style>\n",
       "<table border=\"1\" class=\"dataframe\">\n",
       "  <thead>\n",
       "    <tr style=\"text-align: right;\">\n",
       "      <th></th>\n",
       "      <th>pigPrice_x</th>\n",
       "      <th>pigPriceAndBar_x</th>\n",
       "    </tr>\n",
       "  </thead>\n",
       "  <tbody>\n",
       "    <tr>\n",
       "      <th>pigPrice_y</th>\n",
       "      <td>1.0</td>\n",
       "      <td>0.0</td>\n",
       "    </tr>\n",
       "    <tr>\n",
       "      <th>pigPriceAndBar_y</th>\n",
       "      <td>0.0</td>\n",
       "      <td>1.0</td>\n",
       "    </tr>\n",
       "  </tbody>\n",
       "</table>\n",
       "</div>"
      ],
      "text/plain": [
       "                  pigPrice_x  pigPriceAndBar_x\n",
       "pigPrice_y               1.0               0.0\n",
       "pigPriceAndBar_y         0.0               1.0"
      ]
     },
     "execution_count": 21,
     "metadata": {},
     "output_type": "execute_result"
    }
   ],
   "source": [
    "maxlag=5\n",
    "test = 'ssr_chi2test'\n",
    "\n",
    "def grangers_causation_matrix(data, variables, test='ssr_chi2test', verbose=False):    \n",
    "   \n",
    "    df = pd.DataFrame(np.zeros((len(variables), len(variables))), columns=variables, index=variables)\n",
    "    for c in df.columns:\n",
    "        for r in df.index:\n",
    "            test_result = grangercausalitytests(data[[r, c]], maxlag=maxlag, verbose=False)\n",
    "            p_values = [round(test_result[i+1][0][test][1],4) for i in range(maxlag)]\n",
    "            if verbose: print(f'Y = {r}, X = {c}, P Values = {p_values}')\n",
    "            min_p_value = np.min(p_values)\n",
    "            df.loc[r, c] = min_p_value\n",
    "    df.columns = [var + '_x' for var in variables]\n",
    "    df.index = [var + '_y' for var in variables]\n",
    "    return df\n",
    "\n",
    "grangers_causation_matrix(dataTransformed, variables = dataTransformed.columns)\n"
   ]
  },
  {
   "cell_type": "code",
   "execution_count": 22,
   "metadata": {},
   "outputs": [
    {
     "name": "stdout",
     "output_type": "stream",
     "text": [
      "\n",
      "Granger Causality\n",
      "number of lags (no zero) 1\n",
      "ssr based F test:         F=43.3045 , p=0.0000  , df_denom=1288, df_num=1\n",
      "ssr based chi2 test:   chi2=43.4053 , p=0.0000  , df=1\n",
      "likelihood ratio test: chi2=42.6916 , p=0.0000  , df=1\n",
      "parameter F test:         F=43.3045 , p=0.0000  , df_denom=1288, df_num=1\n",
      "\n",
      "Granger Causality\n",
      "number of lags (no zero) 2\n",
      "ssr based F test:         F=22.3800 , p=0.0000  , df_denom=1285, df_num=2\n",
      "ssr based chi2 test:   chi2=44.9343 , p=0.0000  , df=2\n",
      "likelihood ratio test: chi2=44.1694 , p=0.0000  , df=2\n",
      "parameter F test:         F=22.3800 , p=0.0000  , df_denom=1285, df_num=2\n",
      "\n",
      "Granger Causality\n",
      "number of lags (no zero) 3\n",
      "ssr based F test:         F=20.5939 , p=0.0000  , df_denom=1282, df_num=3\n",
      "ssr based chi2 test:   chi2=62.1191 , p=0.0000  , df=3\n",
      "likelihood ratio test: chi2=60.6687 , p=0.0000  , df=3\n",
      "parameter F test:         F=20.5939 , p=0.0000  , df_denom=1282, df_num=3\n",
      "\n",
      "Granger Causality\n",
      "number of lags (no zero) 4\n",
      "ssr based F test:         F=15.8300 , p=0.0000  , df_denom=1279, df_num=4\n",
      "ssr based chi2 test:   chi2=63.7657 , p=0.0000  , df=4\n",
      "likelihood ratio test: chi2=62.2375 , p=0.0000  , df=4\n",
      "parameter F test:         F=15.8300 , p=0.0000  , df_denom=1279, df_num=4\n",
      "\n",
      "Granger Causality\n",
      "number of lags (no zero) 5\n",
      "ssr based F test:         F=16.1633 , p=0.0000  , df_denom=1276, df_num=5\n",
      "ssr based chi2 test:   chi2=81.5132 , p=0.0000  , df=5\n",
      "likelihood ratio test: chi2=79.0359 , p=0.0000  , df=5\n",
      "parameter F test:         F=16.1633 , p=0.0000  , df_denom=1276, df_num=5\n"
     ]
    },
    {
     "data": {
      "text/plain": [
       "{1: ({'ssr_ftest': (43.30447073488469, 6.799123007640671e-11, 1288.0, 1),\n",
       "   'ssr_chi2test': (43.40533518535414, 4.449732625446399e-11, 1),\n",
       "   'lrtest': (42.69161287194038, 6.408648123615165e-11, 1),\n",
       "   'params_ftest': (43.30447073488432, 6.799123007642362e-11, 1288.0, 1.0)},\n",
       "  [<statsmodels.regression.linear_model.RegressionResultsWrapper at 0x20b291dd540>,\n",
       "   <statsmodels.regression.linear_model.RegressionResultsWrapper at 0x20b2d7dbf10>,\n",
       "   array([[0., 1., 0.]])]),\n",
       " 2: ({'ssr_ftest': (22.38004780099529, 2.792008425141405e-10, 1285.0, 2),\n",
       "   'ssr_chi2test': (44.93425939810728, 1.7484352251594674e-10, 2),\n",
       "   'lrtest': (44.16937859673635, 2.5629569014422325e-10, 2),\n",
       "   'params_ftest': (22.380047800995246, 2.792008425141405e-10, 1285.0, 2.0)},\n",
       "  [<statsmodels.regression.linear_model.RegressionResultsWrapper at 0x20b2d88bd90>,\n",
       "   <statsmodels.regression.linear_model.RegressionResultsWrapper at 0x20b2d88b520>,\n",
       "   array([[0., 0., 1., 0., 0.],\n",
       "          [0., 0., 0., 1., 0.]])]),\n",
       " 3: ({'ssr_ftest': (20.593918333299854, 4.917692785449507e-13, 1282.0, 3),\n",
       "   'ssr_chi2test': (62.11909687587406, 2.0720105320012305e-13, 3),\n",
       "   'lrtest': (60.66870012397385, 4.230297279047484e-13, 3),\n",
       "   'params_ftest': (20.59391833329988, 4.917692785448773e-13, 1282.0, 3.0)},\n",
       "  [<statsmodels.regression.linear_model.RegressionResultsWrapper at 0x20b2d88b2b0>,\n",
       "   <statsmodels.regression.linear_model.RegressionResultsWrapper at 0x20b2d88b370>,\n",
       "   array([[0., 0., 0., 1., 0., 0., 0.],\n",
       "          [0., 0., 0., 0., 1., 0., 0.],\n",
       "          [0., 0., 0., 0., 0., 1., 0.]])]),\n",
       " 4: ({'ssr_ftest': (15.830041749786268, 1.1841784414031652e-12, 1279.0, 4),\n",
       "   'ssr_chi2test': (63.76573502337674, 4.681836629033887e-13, 4),\n",
       "   'lrtest': (62.237527873287036, 9.81864056990944e-13, 4),\n",
       "   'params_ftest': (15.830041749786306, 1.1841784414031652e-12, 1279.0, 4.0)},\n",
       "  [<statsmodels.regression.linear_model.RegressionResultsWrapper at 0x20b2d88b010>,\n",
       "   <statsmodels.regression.linear_model.RegressionResultsWrapper at 0x20b2d88ae90>,\n",
       "   array([[0., 0., 0., 0., 1., 0., 0., 0., 0.],\n",
       "          [0., 0., 0., 0., 0., 1., 0., 0., 0.],\n",
       "          [0., 0., 0., 0., 0., 0., 1., 0., 0.],\n",
       "          [0., 0., 0., 0., 0., 0., 0., 1., 0.]])]),\n",
       " 5: ({'ssr_ftest': (16.163305890145736, 1.768417259392428e-15, 1276.0, 5),\n",
       "   'ssr_chi2test': (81.51322367013151, 4.047368382927026e-16, 5),\n",
       "   'lrtest': (79.03593606269396, 1.3350521828262479e-15, 5),\n",
       "   'params_ftest': (16.163305890145757, 1.768417259392428e-15, 1276.0, 5.0)},\n",
       "  [<statsmodels.regression.linear_model.RegressionResultsWrapper at 0x20b2d88add0>,\n",
       "   <statsmodels.regression.linear_model.RegressionResultsWrapper at 0x20b2d88ac20>,\n",
       "   array([[0., 0., 0., 0., 0., 1., 0., 0., 0., 0., 0.],\n",
       "          [0., 0., 0., 0., 0., 0., 1., 0., 0., 0., 0.],\n",
       "          [0., 0., 0., 0., 0., 0., 0., 1., 0., 0., 0.],\n",
       "          [0., 0., 0., 0., 0., 0., 0., 0., 1., 0., 0.],\n",
       "          [0., 0., 0., 0., 0., 0., 0., 0., 0., 1., 0.]])])}"
      ]
     },
     "execution_count": 22,
     "metadata": {},
     "output_type": "execute_result"
    }
   ],
   "source": [
    "grangercausalitytests(dataTransformed[['pigPrice', 'pigPriceAndBar']], maxlag=5)"
   ]
  },
  {
   "attachments": {},
   "cell_type": "markdown",
   "metadata": {},
   "source": [
    "从一阶差分结果的格兰杰分析来看，滞后阶数为5阶的毛白价差对猪价是有影响的，而从理论本身来看。"
   ]
  }
 ],
 "metadata": {
  "kernelspec": {
   "display_name": "ckywork",
   "language": "python",
   "name": "python3"
  },
  "language_info": {
   "codemirror_mode": {
    "name": "ipython",
    "version": 3
   },
   "file_extension": ".py",
   "mimetype": "text/x-python",
   "name": "python",
   "nbconvert_exporter": "python",
   "pygments_lexer": "ipython3",
   "version": "3.10.9"
  },
  "orig_nbformat": 4
 },
 "nbformat": 4,
 "nbformat_minor": 2
}
